{
 "cells": [
  {
   "cell_type": "code",
   "execution_count": 9,
   "id": "7d54a4cb",
   "metadata": {},
   "outputs": [],
   "source": [
    "import tkinter as tk\n",
    "import pandas as pd\n",
    "\n",
    "# Load the translation dictionary\n",
    "df = pd.read_csv(\"english_gujarati_dataset.csv\")\n",
    "translation_dict = dict(zip(df[\"English Word\"].str.lower(), df[\"Gujarati Translation\"]))\n",
    "\n",
    "# Word limit\n",
    "MAX_WORDS = 6\n",
    "\n",
    "# Function to translate sentence word-by-word\n",
    "def translate_sentence():\n",
    "    sentence = input_entry.get(\"1.0\", tk.END).strip().lower()\n",
    "    \n",
    "    if not sentence:\n",
    "        output_label.config(text=\" Please enter a sentence.\")\n",
    "        return\n",
    "\n",
    "    words = sentence.split()\n",
    "\n",
    "    if len(words) > MAX_WORDS:\n",
    "        output_label.config(text=f\" Sentence too long! Limit is {MAX_WORDS} words.\")\n",
    "        return\n",
    "\n",
    "    translated_words = []\n",
    "    for word in words:\n",
    "        gujarati_word = translation_dict.get(word)\n",
    "        if gujarati_word:\n",
    "            translated_words.append(gujarati_word)\n",
    "        else:\n",
    "            translated_words.append(f\"[{word}]\") \n",
    "\n",
    "    result = ' '.join(translated_words)\n",
    "    output_label.config(text=f\" Gujarati: {result}\")\n",
    "\n",
    "# GUI setup\n",
    "root = tk.Tk()\n",
    "root.title(\"English to Gujarati Sentence Translator \")\n",
    "root.geometry(\"600x300\")\n",
    "\n",
    "tk.Label(root, text=\"Enter an English sentence (max 6 words):\", font=(\"Arial\", 12)).pack(pady=10)\n",
    "\n",
    "input_entry = tk.Text(root, height=3, width=60, font=(\"Arial\", 11))\n",
    "input_entry.pack(pady=5)\n",
    "\n",
    "tk.Button(root, text=\"Translate\", command=translate_sentence, font=(\"Arial\", 11)).pack(pady=5)\n",
    "\n",
    "output_label = tk.Label(root, text=\"\", wraplength=550, font=(\"Arial\", 12), fg=\"blue\")\n",
    "output_label.pack(pady=10)\n",
    "\n",
    "root.mainloop()\n"
   ]
  },
  {
   "cell_type": "code",
   "execution_count": null,
   "id": "9f0b29f2",
   "metadata": {},
   "outputs": [],
   "source": []
  }
 ],
 "metadata": {
  "kernelspec": {
   "display_name": "Python 3 (ipykernel)",
   "language": "python",
   "name": "python3"
  },
  "language_info": {
   "codemirror_mode": {
    "name": "ipython",
    "version": 3
   },
   "file_extension": ".py",
   "mimetype": "text/x-python",
   "name": "python",
   "nbconvert_exporter": "python",
   "pygments_lexer": "ipython3",
   "version": "3.11.5"
  }
 },
 "nbformat": 4,
 "nbformat_minor": 5
}
