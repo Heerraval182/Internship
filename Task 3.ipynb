{
 "cells": [
  {
   "cell_type": "code",
   "execution_count": 9,
   "id": "8abce5d4",
   "metadata": {},
   "outputs": [
    {
     "name": "stdout",
     "output_type": "stream",
     "text": [
      "The history saving thread hit an unexpected error (OperationalError('database or disk is full')).History will not be written to the database.\n"
     ]
    }
   ],
   "source": [
    "import tkinter as tk\n",
    "from datetime import datetime\n",
    "import pandas as pd\n",
    "\n",
    "\n",
    "df = pd.read_csv(\"english_hindi_dataset.csv\")\n",
    "translation_dict = dict(zip(df[\"English Word\"].str.lower(), df[\"Hindi Translation\"]))\n",
    "\n",
    "\n",
    "# Helper functions\n",
    "def is_vowel_start(word):\n",
    "    return word[0].lower() in 'aeiou'\n",
    "\n",
    "def in_vowel_allowed_time():\n",
    "    now = datetime.now()\n",
    "    return now.hour == 21  # Only between 9 PM and 10 PM\n",
    "\n",
    "def translate_word():\n",
    "    word = input_entry.get().strip().lower()\n",
    "    if not word:\n",
    "        output_label.config(text=\"Please enter a word.\")\n",
    "        return\n",
    "\n",
    "    if is_vowel_start(word):\n",
    "        if in_vowel_allowed_time():\n",
    "            hindi = translation_dict.get(word, \"Translation not found.\")\n",
    "            output_label.config(text=f\"Hindi: {hindi}\")\n",
    "        else:\n",
    "            output_label.config(text=\"This word starts with a vowel so give word between 9 PM and 10 PM. Please provide another word.\")\n",
    "    else:\n",
    "        hindi = translation_dict.get(word, \"Translation not found.\")\n",
    "        output_label.config(text=f\"Hindi: {hindi}\")\n",
    "\n",
    "# GUI setup\n",
    "root = tk.Tk()\n",
    "root.title(\"English to Hindi Translator\")\n",
    "\n",
    "tk.Label(root, text=\"Enter an English word:\").pack(pady=5)\n",
    "input_entry = tk.Entry(root, width=30)\n",
    "input_entry.pack(pady=5)\n",
    "\n",
    "tk.Button(root, text=\"Translate\", command=translate_word).pack(pady=5)\n",
    "output_label = tk.Label(root, text=\"\", fg=\"blue\")\n",
    "output_label.pack(pady=10)\n",
    "\n",
    "root.mainloop()\n"
   ]
  },
  {
   "cell_type": "code",
   "execution_count": null,
   "id": "1b89fa47",
   "metadata": {},
   "outputs": [],
   "source": []
  }
 ],
 "metadata": {
  "kernelspec": {
   "display_name": "Python 3 (ipykernel)",
   "language": "python",
   "name": "python3"
  },
  "language_info": {
   "codemirror_mode": {
    "name": "ipython",
    "version": 3
   },
   "file_extension": ".py",
   "mimetype": "text/x-python",
   "name": "python",
   "nbconvert_exporter": "python",
   "pygments_lexer": "ipython3",
   "version": "3.11.5"
  }
 },
 "nbformat": 4,
 "nbformat_minor": 5
}
